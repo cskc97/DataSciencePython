{
 "cells": [
  {
   "cell_type": "code",
   "execution_count": 1,
   "metadata": {
    "collapsed": true
   },
   "outputs": [],
   "source": [
    "import numpy as np\n",
    "import pandas as pd\n",
    "from pandas import Series,DataFrame"
   ]
  },
  {
   "cell_type": "code",
   "execution_count": 2,
   "metadata": {
    "collapsed": true
   },
   "outputs": [],
   "source": [
    "DataFrameObj = DataFrame(np.random.rand(36).reshape(6,6))"
   ]
  },
  {
   "cell_type": "code",
   "execution_count": 3,
   "metadata": {
    "collapsed": false
   },
   "outputs": [
    {
     "data": {
      "text/html": [
       "<div>\n",
       "<table border=\"1\" class=\"dataframe\">\n",
       "  <thead>\n",
       "    <tr style=\"text-align: right;\">\n",
       "      <th></th>\n",
       "      <th>0</th>\n",
       "      <th>1</th>\n",
       "      <th>2</th>\n",
       "      <th>3</th>\n",
       "      <th>4</th>\n",
       "      <th>5</th>\n",
       "    </tr>\n",
       "  </thead>\n",
       "  <tbody>\n",
       "    <tr>\n",
       "      <th>0</th>\n",
       "      <td>0.654646</td>\n",
       "      <td>0.541786</td>\n",
       "      <td>0.073341</td>\n",
       "      <td>0.907346</td>\n",
       "      <td>0.207386</td>\n",
       "      <td>0.005234</td>\n",
       "    </tr>\n",
       "    <tr>\n",
       "      <th>1</th>\n",
       "      <td>0.002604</td>\n",
       "      <td>0.474284</td>\n",
       "      <td>0.317573</td>\n",
       "      <td>0.805538</td>\n",
       "      <td>0.391202</td>\n",
       "      <td>0.690826</td>\n",
       "    </tr>\n",
       "    <tr>\n",
       "      <th>2</th>\n",
       "      <td>0.163102</td>\n",
       "      <td>0.299850</td>\n",
       "      <td>0.922180</td>\n",
       "      <td>0.409104</td>\n",
       "      <td>0.891994</td>\n",
       "      <td>0.992944</td>\n",
       "    </tr>\n",
       "    <tr>\n",
       "      <th>3</th>\n",
       "      <td>0.444986</td>\n",
       "      <td>0.306324</td>\n",
       "      <td>0.277631</td>\n",
       "      <td>0.401470</td>\n",
       "      <td>0.433729</td>\n",
       "      <td>0.726790</td>\n",
       "    </tr>\n",
       "    <tr>\n",
       "      <th>4</th>\n",
       "      <td>0.093944</td>\n",
       "      <td>0.042005</td>\n",
       "      <td>0.186108</td>\n",
       "      <td>0.649986</td>\n",
       "      <td>0.190422</td>\n",
       "      <td>0.279942</td>\n",
       "    </tr>\n",
       "    <tr>\n",
       "      <th>5</th>\n",
       "      <td>0.070107</td>\n",
       "      <td>0.362961</td>\n",
       "      <td>0.341863</td>\n",
       "      <td>0.238374</td>\n",
       "      <td>0.545780</td>\n",
       "      <td>0.097734</td>\n",
       "    </tr>\n",
       "  </tbody>\n",
       "</table>\n",
       "</div>"
      ],
      "text/plain": [
       "          0         1         2         3         4         5\n",
       "0  0.654646  0.541786  0.073341  0.907346  0.207386  0.005234\n",
       "1  0.002604  0.474284  0.317573  0.805538  0.391202  0.690826\n",
       "2  0.163102  0.299850  0.922180  0.409104  0.891994  0.992944\n",
       "3  0.444986  0.306324  0.277631  0.401470  0.433729  0.726790\n",
       "4  0.093944  0.042005  0.186108  0.649986  0.190422  0.279942\n",
       "5  0.070107  0.362961  0.341863  0.238374  0.545780  0.097734"
      ]
     },
     "execution_count": 3,
     "metadata": {},
     "output_type": "execute_result"
    }
   ],
   "source": [
    "DataFrameObj"
   ]
  },
  {
   "cell_type": "code",
   "execution_count": 4,
   "metadata": {
    "collapsed": true
   },
   "outputs": [],
   "source": [
    "DataFrameObj = DataFrameObj*100"
   ]
  },
  {
   "cell_type": "code",
   "execution_count": 5,
   "metadata": {
    "collapsed": false
   },
   "outputs": [
    {
     "data": {
      "text/html": [
       "<div>\n",
       "<table border=\"1\" class=\"dataframe\">\n",
       "  <thead>\n",
       "    <tr style=\"text-align: right;\">\n",
       "      <th></th>\n",
       "      <th>0</th>\n",
       "      <th>1</th>\n",
       "      <th>2</th>\n",
       "      <th>3</th>\n",
       "      <th>4</th>\n",
       "      <th>5</th>\n",
       "    </tr>\n",
       "  </thead>\n",
       "  <tbody>\n",
       "    <tr>\n",
       "      <th>0</th>\n",
       "      <td>65.464580</td>\n",
       "      <td>54.178563</td>\n",
       "      <td>7.334096</td>\n",
       "      <td>90.734565</td>\n",
       "      <td>20.738564</td>\n",
       "      <td>0.523412</td>\n",
       "    </tr>\n",
       "    <tr>\n",
       "      <th>1</th>\n",
       "      <td>0.260441</td>\n",
       "      <td>47.428358</td>\n",
       "      <td>31.757275</td>\n",
       "      <td>80.553771</td>\n",
       "      <td>39.120207</td>\n",
       "      <td>69.082570</td>\n",
       "    </tr>\n",
       "    <tr>\n",
       "      <th>2</th>\n",
       "      <td>16.310246</td>\n",
       "      <td>29.984983</td>\n",
       "      <td>92.217986</td>\n",
       "      <td>40.910360</td>\n",
       "      <td>89.199390</td>\n",
       "      <td>99.294424</td>\n",
       "    </tr>\n",
       "    <tr>\n",
       "      <th>3</th>\n",
       "      <td>44.498624</td>\n",
       "      <td>30.632370</td>\n",
       "      <td>27.763070</td>\n",
       "      <td>40.146969</td>\n",
       "      <td>43.372873</td>\n",
       "      <td>72.679030</td>\n",
       "    </tr>\n",
       "    <tr>\n",
       "      <th>4</th>\n",
       "      <td>9.394438</td>\n",
       "      <td>4.200532</td>\n",
       "      <td>18.610759</td>\n",
       "      <td>64.998566</td>\n",
       "      <td>19.042180</td>\n",
       "      <td>27.994221</td>\n",
       "    </tr>\n",
       "    <tr>\n",
       "      <th>5</th>\n",
       "      <td>7.010746</td>\n",
       "      <td>36.296124</td>\n",
       "      <td>34.186293</td>\n",
       "      <td>23.837350</td>\n",
       "      <td>54.577980</td>\n",
       "      <td>9.773428</td>\n",
       "    </tr>\n",
       "  </tbody>\n",
       "</table>\n",
       "</div>"
      ],
      "text/plain": [
       "           0          1          2          3          4          5\n",
       "0  65.464580  54.178563   7.334096  90.734565  20.738564   0.523412\n",
       "1   0.260441  47.428358  31.757275  80.553771  39.120207  69.082570\n",
       "2  16.310246  29.984983  92.217986  40.910360  89.199390  99.294424\n",
       "3  44.498624  30.632370  27.763070  40.146969  43.372873  72.679030\n",
       "4   9.394438   4.200532  18.610759  64.998566  19.042180  27.994221\n",
       "5   7.010746  36.296124  34.186293  23.837350  54.577980   9.773428"
      ]
     },
     "execution_count": 5,
     "metadata": {},
     "output_type": "execute_result"
    }
   ],
   "source": [
    "DataFrameObj"
   ]
  },
  {
   "cell_type": "code",
   "execution_count": 6,
   "metadata": {
    "collapsed": false
   },
   "outputs": [
    {
     "data": {
      "text/plain": [
       "nan"
      ]
     },
     "execution_count": 6,
     "metadata": {},
     "output_type": "execute_result"
    }
   ],
   "source": [
    "missing = np.nan #Not available. NaN. Basically a way to represent missing values \n",
    "missing"
   ]
  },
  {
   "cell_type": "code",
   "execution_count": 7,
   "metadata": {
    "collapsed": false
   },
   "outputs": [
    {
     "data": {
      "text/html": [
       "<div>\n",
       "<table border=\"1\" class=\"dataframe\">\n",
       "  <thead>\n",
       "    <tr style=\"text-align: right;\">\n",
       "      <th></th>\n",
       "      <th>0</th>\n",
       "      <th>1</th>\n",
       "      <th>2</th>\n",
       "      <th>3</th>\n",
       "      <th>4</th>\n",
       "      <th>5</th>\n",
       "    </tr>\n",
       "  </thead>\n",
       "  <tbody>\n",
       "    <tr>\n",
       "      <th>0</th>\n",
       "      <td>65.464580</td>\n",
       "      <td>54.178563</td>\n",
       "      <td>7.334096</td>\n",
       "      <td>90.734565</td>\n",
       "      <td>20.738564</td>\n",
       "      <td>0.523412</td>\n",
       "    </tr>\n",
       "    <tr>\n",
       "      <th>1</th>\n",
       "      <td>0.260441</td>\n",
       "      <td>47.428358</td>\n",
       "      <td>31.757275</td>\n",
       "      <td>80.553771</td>\n",
       "      <td>NaN</td>\n",
       "      <td>NaN</td>\n",
       "    </tr>\n",
       "    <tr>\n",
       "      <th>2</th>\n",
       "      <td>16.310246</td>\n",
       "      <td>29.984983</td>\n",
       "      <td>92.217986</td>\n",
       "      <td>40.910360</td>\n",
       "      <td>NaN</td>\n",
       "      <td>NaN</td>\n",
       "    </tr>\n",
       "    <tr>\n",
       "      <th>3</th>\n",
       "      <td>44.498624</td>\n",
       "      <td>30.632370</td>\n",
       "      <td>27.763070</td>\n",
       "      <td>40.146969</td>\n",
       "      <td>NaN</td>\n",
       "      <td>NaN</td>\n",
       "    </tr>\n",
       "    <tr>\n",
       "      <th>4</th>\n",
       "      <td>9.394438</td>\n",
       "      <td>4.200532</td>\n",
       "      <td>18.610759</td>\n",
       "      <td>64.998566</td>\n",
       "      <td>19.042180</td>\n",
       "      <td>27.994221</td>\n",
       "    </tr>\n",
       "    <tr>\n",
       "      <th>5</th>\n",
       "      <td>7.010746</td>\n",
       "      <td>36.296124</td>\n",
       "      <td>34.186293</td>\n",
       "      <td>23.837350</td>\n",
       "      <td>54.577980</td>\n",
       "      <td>9.773428</td>\n",
       "    </tr>\n",
       "  </tbody>\n",
       "</table>\n",
       "</div>"
      ],
      "text/plain": [
       "           0          1          2          3          4          5\n",
       "0  65.464580  54.178563   7.334096  90.734565  20.738564   0.523412\n",
       "1   0.260441  47.428358  31.757275  80.553771        NaN        NaN\n",
       "2  16.310246  29.984983  92.217986  40.910360        NaN        NaN\n",
       "3  44.498624  30.632370  27.763070  40.146969        NaN        NaN\n",
       "4   9.394438   4.200532  18.610759  64.998566  19.042180  27.994221\n",
       "5   7.010746  36.296124  34.186293  23.837350  54.577980   9.773428"
      ]
     },
     "execution_count": 7,
     "metadata": {},
     "output_type": "execute_result"
    }
   ],
   "source": [
    "DataFrameObj.ix[1:3,4:5] = missing\n",
    "DataFrameObj"
   ]
  },
  {
   "cell_type": "code",
   "execution_count": 8,
   "metadata": {
    "collapsed": false,
    "scrolled": true
   },
   "outputs": [
    {
     "data": {
      "text/html": [
       "<div>\n",
       "<table border=\"1\" class=\"dataframe\">\n",
       "  <thead>\n",
       "    <tr style=\"text-align: right;\">\n",
       "      <th></th>\n",
       "      <th>0</th>\n",
       "      <th>1</th>\n",
       "      <th>2</th>\n",
       "      <th>3</th>\n",
       "      <th>4</th>\n",
       "      <th>5</th>\n",
       "    </tr>\n",
       "  </thead>\n",
       "  <tbody>\n",
       "    <tr>\n",
       "      <th>0</th>\n",
       "      <td>False</td>\n",
       "      <td>False</td>\n",
       "      <td>False</td>\n",
       "      <td>False</td>\n",
       "      <td>False</td>\n",
       "      <td>False</td>\n",
       "    </tr>\n",
       "    <tr>\n",
       "      <th>1</th>\n",
       "      <td>False</td>\n",
       "      <td>False</td>\n",
       "      <td>False</td>\n",
       "      <td>False</td>\n",
       "      <td>True</td>\n",
       "      <td>True</td>\n",
       "    </tr>\n",
       "    <tr>\n",
       "      <th>2</th>\n",
       "      <td>False</td>\n",
       "      <td>False</td>\n",
       "      <td>False</td>\n",
       "      <td>False</td>\n",
       "      <td>True</td>\n",
       "      <td>True</td>\n",
       "    </tr>\n",
       "    <tr>\n",
       "      <th>3</th>\n",
       "      <td>False</td>\n",
       "      <td>False</td>\n",
       "      <td>False</td>\n",
       "      <td>False</td>\n",
       "      <td>True</td>\n",
       "      <td>True</td>\n",
       "    </tr>\n",
       "    <tr>\n",
       "      <th>4</th>\n",
       "      <td>False</td>\n",
       "      <td>False</td>\n",
       "      <td>False</td>\n",
       "      <td>False</td>\n",
       "      <td>False</td>\n",
       "      <td>False</td>\n",
       "    </tr>\n",
       "    <tr>\n",
       "      <th>5</th>\n",
       "      <td>False</td>\n",
       "      <td>False</td>\n",
       "      <td>False</td>\n",
       "      <td>False</td>\n",
       "      <td>False</td>\n",
       "      <td>False</td>\n",
       "    </tr>\n",
       "  </tbody>\n",
       "</table>\n",
       "</div>"
      ],
      "text/plain": [
       "       0      1      2      3      4      5\n",
       "0  False  False  False  False  False  False\n",
       "1  False  False  False  False   True   True\n",
       "2  False  False  False  False   True   True\n",
       "3  False  False  False  False   True   True\n",
       "4  False  False  False  False  False  False\n",
       "5  False  False  False  False  False  False"
      ]
     },
     "execution_count": 8,
     "metadata": {},
     "output_type": "execute_result"
    }
   ],
   "source": [
    "DataFrameObj.isnull() #returns \"logical\" series/dataframe and all NaNs are true."
   ]
  },
  {
   "cell_type": "code",
   "execution_count": 9,
   "metadata": {
    "collapsed": false
   },
   "outputs": [
    {
     "data": {
      "text/html": [
       "<div>\n",
       "<table border=\"1\" class=\"dataframe\">\n",
       "  <thead>\n",
       "    <tr style=\"text-align: right;\">\n",
       "      <th></th>\n",
       "      <th>0</th>\n",
       "      <th>1</th>\n",
       "      <th>2</th>\n",
       "      <th>3</th>\n",
       "      <th>4</th>\n",
       "      <th>5</th>\n",
       "    </tr>\n",
       "  </thead>\n",
       "  <tbody>\n",
       "    <tr>\n",
       "      <th>0</th>\n",
       "      <td>65.464580</td>\n",
       "      <td>54.178563</td>\n",
       "      <td>7.334096</td>\n",
       "      <td>90.734565</td>\n",
       "      <td>20.7386</td>\n",
       "      <td>0.523412</td>\n",
       "    </tr>\n",
       "    <tr>\n",
       "      <th>1</th>\n",
       "      <td>0.260441</td>\n",
       "      <td>47.428358</td>\n",
       "      <td>31.757275</td>\n",
       "      <td>80.553771</td>\n",
       "      <td>random</td>\n",
       "      <td>random</td>\n",
       "    </tr>\n",
       "    <tr>\n",
       "      <th>2</th>\n",
       "      <td>16.310246</td>\n",
       "      <td>29.984983</td>\n",
       "      <td>92.217986</td>\n",
       "      <td>40.910360</td>\n",
       "      <td>random</td>\n",
       "      <td>random</td>\n",
       "    </tr>\n",
       "    <tr>\n",
       "      <th>3</th>\n",
       "      <td>44.498624</td>\n",
       "      <td>30.632370</td>\n",
       "      <td>27.763070</td>\n",
       "      <td>40.146969</td>\n",
       "      <td>random</td>\n",
       "      <td>random</td>\n",
       "    </tr>\n",
       "    <tr>\n",
       "      <th>4</th>\n",
       "      <td>9.394438</td>\n",
       "      <td>4.200532</td>\n",
       "      <td>18.610759</td>\n",
       "      <td>64.998566</td>\n",
       "      <td>19.0422</td>\n",
       "      <td>27.9942</td>\n",
       "    </tr>\n",
       "    <tr>\n",
       "      <th>5</th>\n",
       "      <td>7.010746</td>\n",
       "      <td>36.296124</td>\n",
       "      <td>34.186293</td>\n",
       "      <td>23.837350</td>\n",
       "      <td>54.578</td>\n",
       "      <td>9.77343</td>\n",
       "    </tr>\n",
       "  </tbody>\n",
       "</table>\n",
       "</div>"
      ],
      "text/plain": [
       "           0          1          2          3        4         5\n",
       "0  65.464580  54.178563   7.334096  90.734565  20.7386  0.523412\n",
       "1   0.260441  47.428358  31.757275  80.553771   random    random\n",
       "2  16.310246  29.984983  92.217986  40.910360   random    random\n",
       "3  44.498624  30.632370  27.763070  40.146969   random    random\n",
       "4   9.394438   4.200532  18.610759  64.998566  19.0422   27.9942\n",
       "5   7.010746  36.296124  34.186293  23.837350   54.578   9.77343"
      ]
     },
     "execution_count": 9,
     "metadata": {},
     "output_type": "execute_result"
    }
   ],
   "source": [
    "DataFrameCopy = DataFrameObj\n",
    "DataFrameCopy[DataFrameCopy.isnull()] = 'random'\n",
    "DataFrameCopy"
   ]
  },
  {
   "cell_type": "code",
   "execution_count": 13,
   "metadata": {
    "collapsed": false
   },
   "outputs": [
    {
     "ename": "TypeError",
     "evalue": "'type' object has no attribute '__getitem__'",
     "output_type": "error",
     "traceback": [
      "\u001b[0;31m---------------------------------------------------------------------------\u001b[0m",
      "\u001b[0;31mTypeError\u001b[0m                                 Traceback (most recent call last)",
      "\u001b[0;32m<ipython-input-13-3dc4c12cd095>\u001b[0m in \u001b[0;36m<module>\u001b[0;34m()\u001b[0m\n\u001b[0;32m----> 1\u001b[0;31m \u001b[0mDataFrameCopy\u001b[0m\u001b[1;33m[\u001b[0m\u001b[0mDataFrame\u001b[0m\u001b[1;33m[\u001b[0m\u001b[1;33m:\u001b[0m\u001b[1;33m,\u001b[0m\u001b[1;36m4\u001b[0m\u001b[1;33m]\u001b[0m\u001b[1;33m.\u001b[0m\u001b[0mstr\u001b[0m\u001b[1;33m.\u001b[0m\u001b[0mmatch\u001b[0m\u001b[1;33m(\u001b[0m\u001b[1;34m'random'\u001b[0m\u001b[1;33m)\u001b[0m\u001b[1;33m]\u001b[0m\u001b[1;33m\u001b[0m\u001b[0m\n\u001b[0m\u001b[1;32m      2\u001b[0m \u001b[0mDataFrameCopy\u001b[0m\u001b[1;33m\u001b[0m\u001b[0m\n",
      "\u001b[0;31mTypeError\u001b[0m: 'type' object has no attribute '__getitem__'"
     ]
    }
   ],
   "source": [
    "DataFrameCopy[DataFrame[:,4].str.match('random')]\n",
    "DataFrameCopy"
   ]
  },
  {
   "cell_type": "code",
   "execution_count": null,
   "metadata": {
    "collapsed": true
   },
   "outputs": [],
   "source": []
  }
 ],
 "metadata": {
  "kernelspec": {
   "display_name": "Python 2",
   "language": "python",
   "name": "python2"
  },
  "language_info": {
   "codemirror_mode": {
    "name": "ipython",
    "version": 2
   },
   "file_extension": ".py",
   "mimetype": "text/x-python",
   "name": "python",
   "nbconvert_exporter": "python",
   "pygments_lexer": "ipython2",
   "version": "2.7.13"
  }
 },
 "nbformat": 4,
 "nbformat_minor": 2
}
