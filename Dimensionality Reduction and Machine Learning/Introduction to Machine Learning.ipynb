{
 "cells": [
  {
   "cell_type": "markdown",
   "metadata": {},
   "source": [
    "## Machine Learning Lingo"
   ]
  },
  {
   "cell_type": "markdown",
   "metadata": {},
   "source": [
    "#### Feature - Basically variables, columns, attributes, fields, etc. "
   ]
  },
  {
   "cell_type": "markdown",
   "metadata": {},
   "source": [
    "#### Instance - Row, observation, data point, value, case\n",
    "#### Target - Predictant, dependant variable\n",
    "\n",
    "Random sampling is done to generate random samples and to break the data into test and training sets. 2/3 of data set for training set and 1/3 of dataset for testing the model.\n",
    "\n",
    "### Supervised Learning - Data is labeled, so one needs to label the incoming data. \n",
    "### Unsupervised Learning - Data is unlabeled. "
   ]
  },
  {
   "cell_type": "code",
   "execution_count": null,
   "metadata": {
    "collapsed": true
   },
   "outputs": [],
   "source": []
  }
 ],
 "metadata": {
  "kernelspec": {
   "display_name": "Python 2",
   "language": "python",
   "name": "python2"
  },
  "language_info": {
   "codemirror_mode": {
    "name": "ipython",
    "version": 2
   },
   "file_extension": ".py",
   "mimetype": "text/x-python",
   "name": "python",
   "nbconvert_exporter": "python",
   "pygments_lexer": "ipython2",
   "version": "2.7.13"
  }
 },
 "nbformat": 4,
 "nbformat_minor": 2
}
