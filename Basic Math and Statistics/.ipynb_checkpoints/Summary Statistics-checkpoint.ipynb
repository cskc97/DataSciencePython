{
 "cells": [
  {
   "cell_type": "code",
   "execution_count": 2,
   "metadata": {
    "collapsed": false
   },
   "outputs": [],
   "source": [
    "import numpy as np\n",
    "import pandas as pd\n",
    "from pandas import Series,DataFrame\n",
    "\n",
    "import scipy\n",
    "from scipy import stats"
   ]
  },
  {
   "cell_type": "code",
   "execution_count": 5,
   "metadata": {
    "collapsed": false
   },
   "outputs": [
    {
     "data": {
      "text/html": [
       "<div>\n",
       "<table border=\"1\" class=\"dataframe\">\n",
       "  <thead>\n",
       "    <tr style=\"text-align: right;\">\n",
       "      <th></th>\n",
       "      <th>car_name</th>\n",
       "      <th>mpg</th>\n",
       "      <th>cyl</th>\n",
       "      <th>disp</th>\n",
       "      <th>hp</th>\n",
       "      <th>drat</th>\n",
       "      <th>wt</th>\n",
       "      <th>qsec</th>\n",
       "      <th>vs</th>\n",
       "      <th>am</th>\n",
       "      <th>gear</th>\n",
       "      <th>carb</th>\n",
       "    </tr>\n",
       "  </thead>\n",
       "  <tbody>\n",
       "    <tr>\n",
       "      <th>0</th>\n",
       "      <td>Mazda RX4</td>\n",
       "      <td>21.0</td>\n",
       "      <td>6</td>\n",
       "      <td>160.0</td>\n",
       "      <td>110</td>\n",
       "      <td>3.90</td>\n",
       "      <td>2.620</td>\n",
       "      <td>16.46</td>\n",
       "      <td>0</td>\n",
       "      <td>1</td>\n",
       "      <td>4</td>\n",
       "      <td>4</td>\n",
       "    </tr>\n",
       "    <tr>\n",
       "      <th>1</th>\n",
       "      <td>Mazda RX4 Wag</td>\n",
       "      <td>21.0</td>\n",
       "      <td>6</td>\n",
       "      <td>160.0</td>\n",
       "      <td>110</td>\n",
       "      <td>3.90</td>\n",
       "      <td>2.875</td>\n",
       "      <td>17.02</td>\n",
       "      <td>0</td>\n",
       "      <td>1</td>\n",
       "      <td>4</td>\n",
       "      <td>4</td>\n",
       "    </tr>\n",
       "    <tr>\n",
       "      <th>2</th>\n",
       "      <td>Datsun 710</td>\n",
       "      <td>22.8</td>\n",
       "      <td>4</td>\n",
       "      <td>108.0</td>\n",
       "      <td>93</td>\n",
       "      <td>3.85</td>\n",
       "      <td>2.320</td>\n",
       "      <td>18.61</td>\n",
       "      <td>1</td>\n",
       "      <td>1</td>\n",
       "      <td>4</td>\n",
       "      <td>1</td>\n",
       "    </tr>\n",
       "    <tr>\n",
       "      <th>3</th>\n",
       "      <td>Hornet 4 Drive</td>\n",
       "      <td>21.4</td>\n",
       "      <td>6</td>\n",
       "      <td>258.0</td>\n",
       "      <td>110</td>\n",
       "      <td>3.08</td>\n",
       "      <td>3.215</td>\n",
       "      <td>19.44</td>\n",
       "      <td>1</td>\n",
       "      <td>0</td>\n",
       "      <td>3</td>\n",
       "      <td>1</td>\n",
       "    </tr>\n",
       "    <tr>\n",
       "      <th>4</th>\n",
       "      <td>Hornet Sportabout</td>\n",
       "      <td>18.7</td>\n",
       "      <td>8</td>\n",
       "      <td>360.0</td>\n",
       "      <td>175</td>\n",
       "      <td>3.15</td>\n",
       "      <td>3.440</td>\n",
       "      <td>17.02</td>\n",
       "      <td>0</td>\n",
       "      <td>0</td>\n",
       "      <td>3</td>\n",
       "      <td>2</td>\n",
       "    </tr>\n",
       "  </tbody>\n",
       "</table>\n",
       "</div>"
      ],
      "text/plain": [
       "            car_name   mpg  cyl   disp   hp  drat     wt   qsec  vs  am  gear  \\\n",
       "0          Mazda RX4  21.0    6  160.0  110  3.90  2.620  16.46   0   1     4   \n",
       "1      Mazda RX4 Wag  21.0    6  160.0  110  3.90  2.875  17.02   0   1     4   \n",
       "2         Datsun 710  22.8    4  108.0   93  3.85  2.320  18.61   1   1     4   \n",
       "3     Hornet 4 Drive  21.4    6  258.0  110  3.08  3.215  19.44   1   0     3   \n",
       "4  Hornet Sportabout  18.7    8  360.0  175  3.15  3.440  17.02   0   0     3   \n",
       "\n",
       "   carb  \n",
       "0     4  \n",
       "1     4  \n",
       "2     1  \n",
       "3     1  \n",
       "4     2  "
      ]
     },
     "execution_count": 5,
     "metadata": {},
     "output_type": "execute_result"
    }
   ],
   "source": [
    "cars = pd.read_csv(\"mtcars.csv\")\n",
    "cars.head()"
   ]
  },
  {
   "cell_type": "code",
   "execution_count": 6,
   "metadata": {
    "collapsed": false
   },
   "outputs": [
    {
     "data": {
      "text/plain": [
       "car_name    Mazda RX4Mazda RX4 WagDatsun 710Hornet 4 Drive...\n",
       "mpg                                                     642.9\n",
       "cyl                                                       198\n",
       "disp                                                   7383.1\n",
       "hp                                                       4694\n",
       "drat                                                   115.09\n",
       "wt                                                    102.952\n",
       "qsec                                                   571.16\n",
       "vs                                                         14\n",
       "am                                                         13\n",
       "gear                                                      118\n",
       "carb                                                       90\n",
       "dtype: object"
      ]
     },
     "execution_count": 6,
     "metadata": {},
     "output_type": "execute_result"
    }
   ],
   "source": [
    "cars.sum() #sum of values for each of the columns"
   ]
  },
  {
   "cell_type": "code",
   "execution_count": 7,
   "metadata": {
    "collapsed": false
   },
   "outputs": [
    {
     "data": {
      "text/plain": [
       "0     328.980\n",
       "1     329.795\n",
       "2     259.580\n",
       "3     426.135\n",
       "4     590.310\n",
       "5     385.540\n",
       "6     656.920\n",
       "7     270.980\n",
       "8     299.570\n",
       "9     350.460\n",
       "10    349.660\n",
       "11    510.740\n",
       "12    511.500\n",
       "13    509.850\n",
       "14    728.560\n",
       "15    726.644\n",
       "16    725.695\n",
       "17    213.850\n",
       "18    195.165\n",
       "19    206.955\n",
       "20    273.775\n",
       "21    519.650\n",
       "22    506.085\n",
       "23    646.280\n",
       "24    631.175\n",
       "25    208.215\n",
       "26    272.570\n",
       "27    273.683\n",
       "28    670.690\n",
       "29    379.590\n",
       "30    694.710\n",
       "31    288.890\n",
       "dtype: float64"
      ]
     },
     "execution_count": 7,
     "metadata": {},
     "output_type": "execute_result"
    }
   ],
   "source": [
    "cars.sum(axis=1) #sum for each of the rows"
   ]
  },
  {
   "cell_type": "code",
   "execution_count": 8,
   "metadata": {
    "collapsed": false
   },
   "outputs": [
    {
     "data": {
      "text/plain": [
       "mpg      19.200\n",
       "cyl       6.000\n",
       "disp    196.300\n",
       "hp      123.000\n",
       "drat      3.695\n",
       "wt        3.325\n",
       "qsec     17.710\n",
       "vs        0.000\n",
       "am        0.000\n",
       "gear      4.000\n",
       "carb      2.000\n",
       "dtype: float64"
      ]
     },
     "execution_count": 8,
     "metadata": {},
     "output_type": "execute_result"
    }
   ],
   "source": [
    "cars.median() #median for each column"
   ]
  },
  {
   "cell_type": "code",
   "execution_count": 11,
   "metadata": {
    "collapsed": false
   },
   "outputs": [
    {
     "data": {
      "text/plain": [
       "0     4.000\n",
       "1     4.000\n",
       "2     4.000\n",
       "3     3.215\n",
       "4     3.440\n",
       "5     3.460\n",
       "6     4.000\n",
       "7     4.000\n",
       "8     4.000\n",
       "9     4.000\n",
       "10    4.000\n",
       "11    4.070\n",
       "12    3.730\n",
       "13    3.780\n",
       "14    5.250\n",
       "15    5.424\n",
       "16    5.345\n",
       "17    4.000\n",
       "18    4.000\n",
       "19    4.000\n",
       "20    3.700\n",
       "21    3.520\n",
       "22    3.435\n",
       "23    4.000\n",
       "24    3.845\n",
       "25    4.000\n",
       "26    4.430\n",
       "27    4.000\n",
       "28    5.000\n",
       "29    6.000\n",
       "30    8.000\n",
       "31    4.000\n",
       "dtype: float64"
      ]
     },
     "execution_count": 11,
     "metadata": {},
     "output_type": "execute_result"
    }
   ],
   "source": [
    "cars.median(axis=1) #median for each row"
   ]
  },
  {
   "cell_type": "code",
   "execution_count": 12,
   "metadata": {
    "collapsed": false
   },
   "outputs": [
    {
     "data": {
      "text/plain": [
       "mpg      20.090625\n",
       "cyl       6.187500\n",
       "disp    230.721875\n",
       "hp      146.687500\n",
       "drat      3.596563\n",
       "wt        3.217250\n",
       "qsec     17.848750\n",
       "vs        0.437500\n",
       "am        0.406250\n",
       "gear      3.687500\n",
       "carb      2.812500\n",
       "dtype: float64"
      ]
     },
     "execution_count": 12,
     "metadata": {},
     "output_type": "execute_result"
    }
   ],
   "source": [
    "cars.mean()"
   ]
  },
  {
   "cell_type": "code",
   "execution_count": 13,
   "metadata": {
    "collapsed": false
   },
   "outputs": [
    {
     "data": {
      "text/plain": [
       "0     29.907273\n",
       "1     29.981364\n",
       "2     23.598182\n",
       "3     38.739545\n",
       "4     53.664545\n",
       "5     35.049091\n",
       "6     59.720000\n",
       "7     24.634545\n",
       "8     27.233636\n",
       "9     31.860000\n",
       "10    31.787273\n",
       "11    46.430909\n",
       "12    46.500000\n",
       "13    46.350000\n",
       "14    66.232727\n",
       "15    66.058545\n",
       "16    65.972273\n",
       "17    19.440909\n",
       "18    17.742273\n",
       "19    18.814091\n",
       "20    24.888636\n",
       "21    47.240909\n",
       "22    46.007727\n",
       "23    58.752727\n",
       "24    57.379545\n",
       "25    18.928636\n",
       "26    24.779091\n",
       "27    24.880273\n",
       "28    60.971818\n",
       "29    34.508182\n",
       "30    63.155455\n",
       "31    26.262727\n",
       "dtype: float64"
      ]
     },
     "execution_count": 13,
     "metadata": {},
     "output_type": "execute_result"
    }
   ],
   "source": [
    "cars.mean(axis=1)"
   ]
  },
  {
   "cell_type": "code",
   "execution_count": 14,
   "metadata": {
    "collapsed": false
   },
   "outputs": [
    {
     "data": {
      "text/plain": [
       "car_name    Volvo 142E\n",
       "mpg               33.9\n",
       "cyl                  8\n",
       "disp               472\n",
       "hp                 335\n",
       "drat              4.93\n",
       "wt               5.424\n",
       "qsec              22.9\n",
       "vs                   1\n",
       "am                   1\n",
       "gear                 5\n",
       "carb                 8\n",
       "dtype: object"
      ]
     },
     "execution_count": 14,
     "metadata": {},
     "output_type": "execute_result"
    }
   ],
   "source": [
    "cars.max()"
   ]
  },
  {
   "cell_type": "code",
   "execution_count": 15,
   "metadata": {
    "collapsed": false
   },
   "outputs": [
    {
     "data": {
      "text/plain": [
       "car_name    AMC Javelin\n",
       "mpg                10.4\n",
       "cyl                   4\n",
       "disp               71.1\n",
       "hp                   52\n",
       "drat               2.76\n",
       "wt                1.513\n",
       "qsec               14.5\n",
       "vs                    0\n",
       "am                    0\n",
       "gear                  3\n",
       "carb                  1\n",
       "dtype: object"
      ]
     },
     "execution_count": 15,
     "metadata": {},
     "output_type": "execute_result"
    }
   ],
   "source": [
    "cars.min()"
   ]
  },
  {
   "cell_type": "code",
   "execution_count": 17,
   "metadata": {
    "collapsed": false
   },
   "outputs": [
    {
     "data": {
      "text/plain": [
       "19"
      ]
     },
     "execution_count": 17,
     "metadata": {},
     "output_type": "execute_result"
    }
   ],
   "source": [
    "mpg = cars[\"mpg\"]\n",
    "mpg.idxmax() #the row where the maximum value is found."
   ]
  },
  {
   "cell_type": "code",
   "execution_count": null,
   "metadata": {
    "collapsed": true
   },
   "outputs": [],
   "source": []
  }
 ],
 "metadata": {
  "kernelspec": {
   "display_name": "Python 2",
   "language": "python",
   "name": "python2"
  },
  "language_info": {
   "codemirror_mode": {
    "name": "ipython",
    "version": 2
   },
   "file_extension": ".py",
   "mimetype": "text/x-python",
   "name": "python",
   "nbconvert_exporter": "python",
   "pygments_lexer": "ipython2",
   "version": "2.7.13"
  }
 },
 "nbformat": 4,
 "nbformat_minor": 2
}
